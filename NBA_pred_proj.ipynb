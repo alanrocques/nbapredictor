{
  "nbformat": 4,
  "nbformat_minor": 0,
  "metadata": {
    "colab": {
      "provenance": []
    },
    "kernelspec": {
      "name": "python3",
      "display_name": "Python 3"
    },
    "language_info": {
      "name": "python"
    }
  },
  "cells": [
    {
      "cell_type": "code",
      "execution_count": null,
      "metadata": {
        "id": "8gephIqw19ej"
      },
      "outputs": [],
      "source": [
        "import pandas as pd\n",
        "import numpy as np"
      ]
    },
    {
      "cell_type": "code",
      "source": [
        "df = pd.read_csv(\"game.csv\")"
      ],
      "metadata": {
        "id": "VQgrGRsk2qcy"
      },
      "execution_count": null,
      "outputs": []
    },
    {
      "cell_type": "code",
      "source": [
        "df_sorted = df.sort_values(by='game_date', ascending=False)\n",
        "df_sorted = df_sorted[df.team_abbreviation_home != 'LBN']\n",
        "df_sorted = df_sorted[df.team_abbreviation_home != 'GNS']\n",
        "df_sorted = df_sorted[df.team_abbreviation_home != 'STP']\n",
        "df_sorted = df_sorted[df.team_abbreviation_home != 'EST']\n",
        "df_sorted = df_sorted[df.team_abbreviation_home != 'WST']\n",
        "\n",
        "teams_list = {'DRT','FCB','RMD','FLA','MLN','FBU','ALB','UBB','NOH','EAM','NJN','BAR','RMA','SEA','CHN','MMT','MAL','LRO','EPT','NOK','MTA','KHI','ROM','LYV','CHH','VAN','SAN','UTH','PHL','GOS'}\n",
        "for team in teams_list:\n",
        "  df_sorted = df_sorted[df.team_abbreviation_home != team]\n",
        "\n",
        "df_sorted = df_sorted.dropna()\n"
      ],
      "metadata": {
        "id": "n6pG-bR-9bd1"
      },
      "execution_count": null,
      "outputs": []
    },
    {
      "cell_type": "code",
      "source": [
        "# separate df_sorted into four seasons\n",
        "seasons = {}\n",
        "season_yrs = {'2007','2008','2009','2010','2011','2012','2013','2014','2015','2016','2017','2018','2019','2020','2021','2022'}\n",
        "\n",
        "df_sorted['season_id'] = df_sorted['season_id'] % 10000\n",
        "\n",
        "for season in season_yrs:\n",
        "  seasons[season] = df_sorted[df_sorted['season_id'] == int(season)]"
      ],
      "metadata": {
        "id": "WQ8EYSJCf3iL"
      },
      "execution_count": null,
      "outputs": []
    },
    {
      "cell_type": "code",
      "source": [
        "columns_to_delete = ['ft_pct_away','ft_pct_home','ftm_home','ftm_away','fg3a_home','fg3a_away','season_id','team_id_home','team_name_home','game_id','min','video_available_home','video_available_away']\n",
        "\n",
        "for season in seasons:\n",
        "  seasons[season].drop(columns=columns_to_delete, inplace=True)"
      ],
      "metadata": {
        "id": "sOLmDnoI9ndx"
      },
      "execution_count": null,
      "outputs": []
    },
    {
      "cell_type": "markdown",
      "source": [
        "Calculate offensive rating"
      ],
      "metadata": {
        "id": "VsvSxVitnGo6"
      }
    },
    {
      "cell_type": "code",
      "source": [
        "for season in seasons:\n",
        "  # --------HOME--------\n",
        "  # Calculate Points Produced\n",
        "  seasons[season]['pts_prod_home'] =  seasons[season]['pts_home'] +  seasons[season]['ast_home'] + (0.5 *  seasons[season]['oreb_home'])\n",
        "\n",
        "  # Calculate Possessions\n",
        "  seasons[season]['poss_home'] =  seasons[season]['fga_home'] -  seasons[season]['oreb_home'] +  seasons[season]['tov_home'] + (0.44 *  seasons[season]['fga_home'])\n",
        "\n",
        "  # Calculate Offensive Rating\n",
        "  seasons[season]['off_rat_home'] =   (seasons[season]['pts_prod_home'] /  seasons[season]['poss_home']) * 100\n",
        "\n",
        "\n",
        "  # --------AWAY--------\n",
        "  # Calculate Points Produced\n",
        "  seasons[season]['pts_prod_away'] =  seasons[season]['pts_away'] +  seasons[season]['ast_away'] + (0.5 *  seasons[season]['oreb_away'])\n",
        "\n",
        "  # Calculate Possessions\n",
        "  seasons[season]['poss_away'] =  seasons[season]['fga_away'] -  seasons[season]['oreb_away'] +  seasons[season]['tov_away'] + (0.44 *  seasons[season]['fga_away'])\n",
        "\n",
        "  # Calculate Offensive Rating\n",
        "  seasons[season]['off_rat_away'] =   (seasons[season]['pts_prod_away'] /  seasons[season]['poss_away']) * 100\n"
      ],
      "metadata": {
        "id": "YF6WqAoRlhsr"
      },
      "execution_count": null,
      "outputs": []
    },
    {
      "cell_type": "markdown",
      "source": [
        "Calculate defensive rating"
      ],
      "metadata": {
        "id": "KoWckD4PnKxg"
      }
    },
    {
      "cell_type": "code",
      "source": [
        "for season in seasons:\n",
        "  # --------HOME--------\n",
        "  # Calculate Defensive Rating\n",
        "  seasons[season]['def_rat_home'] = (seasons[season]['pts_prod_away'] / seasons[season]['poss_away']) * 100\n",
        "\n",
        "  # Optional: Drop intermediate columns if needed\n",
        "  seasons[season].drop(columns=['pts_prod_away', 'poss_away'], inplace=True)\n",
        "\n",
        "  # --------AWAY--------\n",
        "  # Calculate Defensive Rating\n",
        "  seasons[season]['def_rat_away'] = (seasons[season]['pts_prod_home'] / seasons[season]['poss_home']) * 100\n",
        "\n",
        "  # Optional: Drop intermediate columns if needed\n",
        "  seasons[season].drop(columns=['pts_prod_home', 'poss_home'], inplace=True)\n"
      ],
      "metadata": {
        "id": "QW3fj7hfnEgg"
      },
      "execution_count": null,
      "outputs": []
    },
    {
      "cell_type": "markdown",
      "source": [
        "Calculate rebound differential"
      ],
      "metadata": {
        "id": "C4DjEZm6oFbm"
      }
    },
    {
      "cell_type": "code",
      "source": [
        "for season in seasons:\n",
        "  # --------HOME--------\n",
        "  seasons[season]['reb_diff_home'] = seasons[season]['reb_home'] - seasons[season]['reb_away']\n",
        "  # --------AWAY--------\n",
        "  seasons[season]['reb_diff_away'] = seasons[season]['reb_away'] - seasons[season]['reb_home']"
      ],
      "metadata": {
        "id": "9asjx7wJoFlQ"
      },
      "execution_count": null,
      "outputs": []
    },
    {
      "cell_type": "code",
      "source": [
        "# calculate effective fg%\n",
        "\n",
        "# home\n",
        "for season in seasons:\n",
        "  seasons[season]['efg_pct_home'] = (seasons[season]['fgm_home'] + 0.5*(seasons[season]['fg3m_home']))/seasons[season]['fga_home']\n",
        "\n",
        "# away\n",
        "for season in seasons:\n",
        "  seasons[season]['efg_pct_away'] = (seasons[season]['fgm_away'] + 0.5*(seasons[season]['fg3m_away']))/seasons[season]['fga_away']\n"
      ],
      "metadata": {
        "id": "XMYmVp6wh-TH"
      },
      "execution_count": null,
      "outputs": []
    },
    {
      "cell_type": "code",
      "source": [
        "# calculate true shooting\n",
        "\n",
        "# home\n",
        "for season in seasons:\n",
        "  seasons[season]['ts_home'] = ((seasons[season]['pts_home'])/(2*((seasons[season]['fga_home']) + 0.44*(seasons[season]['fta_home']))))\n",
        "\n",
        "# away\n",
        "for season in seasons:\n",
        "  seasons[season]['ts_away'] = ((seasons[season]['pts_away'])/(2*(seasons[season]['fga_away'] + 0.44*(seasons[season]['fta_away']))))"
      ],
      "metadata": {
        "id": "1qSTuT9QkrVN"
      },
      "execution_count": null,
      "outputs": []
    },
    {
      "cell_type": "markdown",
      "source": [
        "Drop unnecessary columns"
      ],
      "metadata": {
        "id": "KKZjIY32quoK"
      }
    },
    {
      "cell_type": "code",
      "source": [
        "drop_columns = ['season_type','fgm_away','fga_away','plus_minus_home','plus_minus_away','team_id_away','pts_home','pf_home','ast_home','stl_home','blk_home','tov_home','fga_home','game_date','fgm_home','oreb_home','dreb_home','oreb_away','dreb_away','reb_home','reb_away','ast_away','stl_away','blk_away','tov_away','pf_away','pts_away']\n",
        "for season in seasons:\n",
        "  seasons[season].drop(columns=drop_columns,inplace=True)"
      ],
      "metadata": {
        "id": "cVfQYTB2qzHI"
      },
      "execution_count": null,
      "outputs": []
    },
    {
      "cell_type": "code",
      "source": [
        "seasons_teams = {}\n",
        "\n",
        "# make individual dataframes for each team's stats\n",
        "teams_home = df_sorted['team_abbreviation_home'].unique()\n",
        "teams_away = df_sorted['team_abbreviation_away'].unique()\n",
        "teams_dict = {value: None for value in teams_home}\n",
        "\n",
        "#columns to rename to equalize home and away games\n",
        "#home_columns = {'ts_home': 'ts','efg_pct_home': 'efg_pct','wl_home': 'wl','team_abbreviation_home': 'team','off_rat_home': 'off_rat','def_rat_home': 'def_rat','fg_pct_home': 'fg_pct','fg3_pct_home': 'fg3_pct','reb_diff_home': 'reb_diff'}\n",
        "#away_columns = {'ts_away': 'ts','efg_pct_away': 'efg_pct','wl_away': 'wl','team_abbreviation_away': 'team','off_rat_away': 'off_rat','def_rat_away': 'def_rat','fg_pct_away': 'fg_pct','fg3_pct_away': 'fg3_pct','reb_diff_away': 'reb_diff'}\n",
        "\n",
        "#columns to delete to equalize home and away games\n",
        "#home_delete = {'ts_away','efg_pct_away','team_abbreviation_away','off_rat_away','def_rat_away','fg_pct_away','fg3_pct_away','reb_diff_away'}\n",
        "#away_delete = {'ts_home','efg_pct_home','team_abbreviation_home','off_rat_home','def_rat_home','fg_pct_home','fg3_pct_home','reb_diff_home'}\n",
        "\n",
        "for team in teams_dict:\n",
        "  for season in seasons:\n",
        "    name = team + '_' + season\n",
        "    d = {}\n",
        "    d['home'] = seasons[season][seasons[season]['team_abbreviation_home'] == team]\n",
        "    #d['home'].rename(columns=home_columns, inplace=True)\n",
        "    #d['home'].drop(columns=home_delete, inplace=True)\n",
        "\n",
        "    #print('home:' + str(len(d['home'].index)))\n",
        "    d['away'] = seasons[season][seasons[season]['team_abbreviation_away'] == team]\n",
        "    #d['away'].rename(columns=away_columns, inplace=True)\n",
        "    #d['away'].drop(columns=away_delete, inplace=True)\n",
        "\n",
        "    #print('away:' + str(len(d['away'].index)))\n",
        "    seasons_teams[name] = pd.concat(d)\n",
        "\n",
        "\n",
        "#print(len(seasons_teams))\n",
        "\n",
        "# each team's individual stats can be accessed through this dict\n",
        "#seasons_teams['ATL_2020']"
      ],
      "metadata": {
        "id": "Br6LUhknlHPz"
      },
      "execution_count": null,
      "outputs": []
    },
    {
      "cell_type": "code",
      "source": [
        "# calculate expanding mean for each feature statistic\n",
        "\n",
        "expand_cols = ['ts_home','efg_pct_home','fg_pct_home','fg3_pct_home','off_rat_home', 'def_rat_home', 'reb_diff_home','ts_away','efg_pct_away','fg_pct_away','fg3_pct_away','off_rat_away', 'def_rat_away', 'reb_diff_away']\n",
        "expanded_teams = {}\n",
        "\n",
        "for season in seasons_teams:\n",
        "  expanding_means = seasons_teams[season][expand_cols].expanding().mean()\n",
        "  for column in expand_cols:\n",
        "    seasons_teams[season][f'{column}_ex'] = expanding_means[column]\n",
        "  seasons_teams[season] = seasons_teams[season].drop(columns=['ts_home','efg_pct_home','matchup_home', 'fg_pct_home', 'fg3_pct_home', 'team_name_away', 'matchup_away', 'wl_away', 'fg_pct_away', 'fg3_pct_away', 'off_rat_away', 'off_rat_home', 'def_rat_home', 'def_rat_away', 'reb_diff_home', 'reb_diff_away'])"
      ],
      "metadata": {
        "id": "AhJnqtbxgwqN"
      },
      "execution_count": null,
      "outputs": []
    },
    {
      "cell_type": "code",
      "source": [
        "# assemble team dfs into one\n",
        "\n",
        "all_games = pd.concat(seasons_teams)\n",
        "#all_games"
      ],
      "metadata": {
        "id": "ibD8hQPREa6s"
      },
      "execution_count": null,
      "outputs": []
    },
    {
      "cell_type": "code",
      "source": [
        "# scale the data using standard scaler\n",
        "\n",
        "from sklearn.preprocessing import StandardScaler\n",
        "from sklearn.preprocessing import MinMaxScaler\n",
        "sc = MinMaxScaler()\n",
        "all_games[['ts_home','ts_away','efg_pct_home_ex','efg_pct_away_ex','fg_pct_home_ex','fg_pct_away_ex','fg3_pct_home_ex','fg3_pct_away_ex','off_rat_home_ex','off_rat_away_ex','def_rat_home_ex','def_rat_away_ex','reb_diff_home_ex','reb_diff_away_ex']] = sc.fit_transform(all_games[['ts_home_ex','ts_away_ex','efg_pct_home_ex','efg_pct_away_ex','fg_pct_away_ex','fg_pct_home_ex','fg3_pct_away_ex','fg3_pct_home_ex','off_rat_away_ex','off_rat_home_ex','def_rat_home_ex','def_rat_away_ex','reb_diff_home_ex','reb_diff_away_ex']])\n",
        "\n"
      ],
      "metadata": {
        "id": "C-wXDKKPc0WL"
      },
      "execution_count": null,
      "outputs": []
    },
    {
      "cell_type": "code",
      "source": [
        "all_games.loc[all_games['wl_home'] == 'W', 'wl'] = 1\n",
        "all_games.loc[all_games['wl_home'] == 'L', 'wl'] = 0"
      ],
      "metadata": {
        "id": "YJ0KnbIknbOt"
      },
      "execution_count": null,
      "outputs": []
    },
    {
      "cell_type": "code",
      "source": [
        "# create training and validation sets\n",
        "\n",
        "from sklearn.model_selection import train_test_split\n",
        "training_set, validation_set = train_test_split(all_games, test_size = 0.3, random_state = 21)\n",
        "\n",
        "# classify the predictors and targets\n",
        "\n",
        "predictors_train = training_set[['ts_home_ex','efg_pct_home_ex','off_rat_home_ex','def_rat_home_ex','reb_diff_home_ex','ts_away_ex','efg_pct_away_ex','off_rat_away_ex','def_rat_away_ex','reb_diff_away_ex']]\n",
        "targets_train = training_set[['wl_home']]\n",
        "\n",
        "predictors_test = validation_set[['ts_home_ex','efg_pct_home_ex','off_rat_home_ex','def_rat_home_ex','reb_diff_home_ex','ts_away_ex','efg_pct_away_ex','off_rat_away_ex','def_rat_away_ex','reb_diff_away_ex']]\n",
        "targets_test = validation_set[['wl_home']]"
      ],
      "metadata": {
        "id": "BeYXTSBceXdw"
      },
      "execution_count": null,
      "outputs": []
    },
    {
      "cell_type": "code",
      "source": [
        "def accuracy(confusion_matrix):\n",
        "   diagonal_sum = confusion_matrix.trace()\n",
        "   sum_of_all_elements = confusion_matrix.sum()\n",
        "   return diagonal_sum / sum_of_all_elements"
      ],
      "metadata": {
        "id": "4SCx3mAMhs8N"
      },
      "execution_count": null,
      "outputs": []
    },
    {
      "cell_type": "code",
      "source": [
        "#Importing MLPClassifier\n",
        "from sklearn.neural_network import MLPClassifier\n",
        "from sklearn.preprocessing import LabelEncoder\n",
        "\n",
        "from sklearn.naive_bayes import GaussianNB\n",
        "\n",
        "#random forest\n",
        "from sklearn.ensemble import RandomForestClassifier\n",
        "\n",
        "from sklearn.linear_model import LogisticRegression\n",
        "\n",
        "\n",
        "#Initializing the MLPClassifier\n",
        "classifier = MLPClassifier(hidden_layer_sizes=(150,50,75), max_iter=2000,activation = 'relu',solver='adam',learning_rate='adaptive',learning_rate_init=0.001,random_state=1)\n",
        "#classifier = RandomForestClassifier()\n",
        "#classifier = LogisticRegression()\n",
        "#classifier = GaussianNB()\n",
        "\n",
        "label_encoder = LabelEncoder()\n",
        "targets_train = label_encoder.fit_transform(targets_train)\n",
        "# predictors_train = label_encoder.fit_transform(predictors_train)\n",
        "targets_test = label_encoder.fit_transform(targets_test)\n",
        "# predictors_test = label_encoder.fit_transform(predictors_test)\n",
        "\n",
        "\n",
        "#Fitting the training data to the network\n",
        "classifier.fit(predictors_train, targets_train)\n",
        "\n",
        "#Predicting y for X_val\n",
        "targets_pred = classifier.predict(predictors_test)"
      ],
      "metadata": {
        "id": "uFdQV7-LhtxR",
        "colab": {
          "base_uri": "https://localhost:8080/"
        },
        "outputId": "bc5b93d3-ee25-4c1f-890b-ab59e1ac8427"
      },
      "execution_count": null,
      "outputs": [
        {
          "output_type": "stream",
          "name": "stderr",
          "text": [
            "/usr/local/lib/python3.10/dist-packages/sklearn/preprocessing/_label.py:116: DataConversionWarning: A column-vector y was passed when a 1d array was expected. Please change the shape of y to (n_samples, ), for example using ravel().\n",
            "  y = column_or_1d(y, warn=True)\n",
            "/usr/local/lib/python3.10/dist-packages/sklearn/preprocessing/_label.py:116: DataConversionWarning: A column-vector y was passed when a 1d array was expected. Please change the shape of y to (n_samples, ), for example using ravel().\n",
            "  y = column_or_1d(y, warn=True)\n"
          ]
        }
      ]
    },
    {
      "cell_type": "code",
      "source": [
        "#Importing Confusion Matrix\n",
        "from sklearn.metrics import confusion_matrix\n",
        "#Comparing the predictions against the actual observations in y_val\n",
        "cm = confusion_matrix(targets_pred, targets_test)\n",
        "\n",
        "#Printing the accuracy\n",
        "print(\"Accuracy: \", accuracy(cm))"
      ],
      "metadata": {
        "colab": {
          "base_uri": "https://localhost:8080/"
        },
        "id": "7X_OxkX8h9Eg",
        "outputId": "d4c858d1-6b12-471d-8d41-4dde668f4c6c"
      },
      "execution_count": null,
      "outputs": [
        {
          "output_type": "stream",
          "name": "stdout",
          "text": [
            "Accuracy:  0.6261280256388632\n"
          ]
        }
      ]
    },
    {
      "cell_type": "code",
      "source": [
        "# generate roc curve\n",
        "from sklearn import metrics\n",
        "from sklearn.metrics import roc_curve\n",
        "import matplotlib.pyplot as plt\n",
        "fpr, tpr, threshold = roc_curve(targets_test, classifier.predict_proba(predictors_test)[:,1])\n",
        "\n",
        "roc_auc = metrics.auc(fpr, tpr)\n",
        "display = metrics.RocCurveDisplay(fpr=fpr, tpr=tpr, roc_auc=roc_auc)\n",
        "display.plot()\n",
        "\n",
        "plt.title(\"ROC Curve\")\n",
        "\n",
        "plt.show()"
      ],
      "metadata": {
        "colab": {
          "base_uri": "https://localhost:8080/",
          "height": 472
        },
        "id": "vBbceySWmggf",
        "outputId": "8b016595-d634-47f2-f39f-0ee2a273529a"
      },
      "execution_count": null,
      "outputs": [
        {
          "output_type": "display_data",
          "data": {
            "text/plain": [
              "<Figure size 640x480 with 1 Axes>"
            ],
            "image/png": "[encoded data removed]"
          },
          "metadata": {}
        }
      ]
    }
  ]
}